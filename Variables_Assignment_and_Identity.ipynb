{
  "nbformat": 4,
  "nbformat_minor": 0,
  "metadata": {
    "colab": {
      "provenance": [],
      "authorship_tag": "ABX9TyOObHy+7N7VBRDEdKanxFHh"
    },
    "kernelspec": {
      "name": "python3",
      "display_name": "Python 3"
    },
    "language_info": {
      "name": "python"
    }
  },
  "cells": [
    {
      "cell_type": "markdown",
      "source": [
        "#Variables\n",
        "\n",
        "When we say 'assign a value to a variable', were assigning a name to a piece of data in memory.\n",
        "\n",
        "In Python, this is done with the equals sign =.\n",
        "\n",
        "But the catch  = doesn’t copy the data. It just points a name to an object in memory."
      ],
      "metadata": {
        "id": "d5mQitqhalIm"
      }
    },
    {
      "cell_type": "code",
      "source": [
        "a = 10\n",
        "b = a\n",
        "\n",
        "a = 20\n",
        "\n",
        "print(a, b)"
      ],
      "metadata": {
        "colab": {
          "base_uri": "https://localhost:8080/"
        },
        "id": "1cMlHONxleXs",
        "outputId": "1b3f9a89-5320-412c-dbaa-2366bae3fc23"
      },
      "execution_count": 31,
      "outputs": [
        {
          "output_type": "stream",
          "name": "stdout",
          "text": [
            "20 10\n"
          ]
        }
      ]
    },
    {
      "cell_type": "markdown",
      "source": [
        "# Identity vs Equality\n",
        "\n",
        "\"Think of equality == as asking: Do these look the same?\n",
        "\n",
        "Think of identity is as asking: Are these literally the same object?\""
      ],
      "metadata": {
        "id": "FaYVASPukJKF"
      }
    },
    {
      "cell_type": "code",
      "source": [
        "a = 257\n",
        "b = 257\n",
        "\n",
        "print(a == b)\n",
        "print(a is b)"
      ],
      "metadata": {
        "colab": {
          "base_uri": "https://localhost:8080/"
        },
        "id": "CZ3NTNb4lqqh",
        "outputId": "df3b988d-8391-494d-970e-a07f993fc58b"
      },
      "execution_count": 34,
      "outputs": [
        {
          "output_type": "stream",
          "name": "stdout",
          "text": [
            "True\n",
            "False\n"
          ]
        }
      ]
    },
    {
      "cell_type": "markdown",
      "source": [
        "# Side Note\n",
        "\n",
        "Python caches small integers and some strings, so is may return True even if you didn’t expect it.\n",
        "\n",
        "For larger numbers or more complex objects, is often returns False unless explicitly referencing the same object."
      ],
      "metadata": {
        "id": "6B-gK6RulrXL"
      }
    },
    {
      "cell_type": "code",
      "source": [],
      "metadata": {
        "id": "r4xv2GDjl5De"
      },
      "execution_count": null,
      "outputs": []
    },
    {
      "cell_type": "markdown",
      "source": [
        "# The Mutable vs Immutable Twist\n",
        "\n",
        " Integers, strings, and tuples are immutable once created, they cannot be changed.\n",
        "\n",
        " Lists, dictionaries, and sets are mutable they can be changed in place."
      ],
      "metadata": {
        "id": "BOYLx12bl4Hl"
      }
    },
    {
      "cell_type": "code",
      "source": [
        "# Immutable\n",
        "\n",
        "a = 10\n",
        "b = a\n",
        "a = 20\n",
        "print(a, b)  # 20 10\n"
      ],
      "metadata": {
        "colab": {
          "base_uri": "https://localhost:8080/"
        },
        "id": "rwIxisnZlzl1",
        "outputId": "c300217f-7453-45aa-cf81-c53a5a13e090"
      },
      "execution_count": 35,
      "outputs": [
        {
          "output_type": "stream",
          "name": "stdout",
          "text": [
            "20 10\n"
          ]
        }
      ]
    },
    {
      "cell_type": "code",
      "source": [
        "# Mutable\n",
        "\n",
        "list1 = [1,2,3]\n",
        "list2 = list1\n",
        "list1.append(4)\n",
        "print(list1)\n",
        "print(list2)\n",
        "print(list1 is list2)"
      ],
      "metadata": {
        "colab": {
          "base_uri": "https://localhost:8080/"
        },
        "id": "wFN2KiUpmScY",
        "outputId": "9fd05691-9326-40a5-e677-f3b1b73ede28"
      },
      "execution_count": 36,
      "outputs": [
        {
          "output_type": "stream",
          "name": "stdout",
          "text": [
            "[1, 2, 3, 4]\n",
            "[1, 2, 3, 4]\n",
            "True\n"
          ]
        }
      ]
    },
    {
      "cell_type": "markdown",
      "source": [
        "# Copying Objects Properly\n",
        "\n",
        "To avoid accidental changes, you can make a copy.\n",
        "\n",
        "Shallow copy: copies the outer object, but inner references may still be shared.\n",
        "\n",
        "Deep copy: creates a brand new object and all new inner objects.\n",
        "\n",
        ".copy() creates a shallow copy — it copies the top-level list, but the inner lists are still shared."
      ],
      "metadata": {
        "id": "k1SpKJrNmabr"
      }
    },
    {
      "cell_type": "code",
      "source": [
        "import copy\n",
        "\n",
        "nested1 = [[1, 2], [3, 4]]\n",
        "nested2 = nested1.copy()\n",
        "nested1[0].append(99)\n",
        "\n",
        "print(nested1)  # [[1, 2, 99], [3, 4]]\n",
        "print(nested2)  # [[1, 2, 99], [3, 4]]"
      ],
      "metadata": {
        "colab": {
          "base_uri": "https://localhost:8080/"
        },
        "id": "QEXeHpf3mVfk",
        "outputId": "d1aa20ba-3116-4caa-87de-b74ce521bc33"
      },
      "execution_count": 22,
      "outputs": [
        {
          "output_type": "stream",
          "name": "stdout",
          "text": [
            "[[1, 2, 99], [3, 4]]\n",
            "[[1, 2, 99], [3, 4]]\n"
          ]
        }
      ]
    },
    {
      "cell_type": "code",
      "source": [
        "nestedA = [[1, 2], [3, 4]]\n",
        "nestedB = copy.deepcopy(nestedA)\n",
        "nestedA[0].append(99)\n",
        "\n",
        "print(nestedA)  # [[1, 2, 99], [3, 4]]\n",
        "print(nestedB)  # [[1, 2], [3, 4]]"
      ],
      "metadata": {
        "colab": {
          "base_uri": "https://localhost:8080/"
        },
        "id": "VkI65GxR_RDl",
        "outputId": "a3433c33-3f03-4c11-de8e-a84afa174466"
      },
      "execution_count": 23,
      "outputs": [
        {
          "output_type": "stream",
          "name": "stdout",
          "text": [
            "[[1, 2, 99], [3, 4]]\n",
            "[[1, 2], [3, 4]]\n"
          ]
        }
      ]
    },
    {
      "cell_type": "markdown",
      "source": [
        "# RECAP\n",
        "\n",
        "== → Compares values.\n",
        "\n",
        "is → Checks identity (same memory address).\n",
        "\n",
        "For immutable objects (like integers, strings, tuples), Python may reuse objects, so is can be True.\n",
        "\n",
        "For mutable objects (like lists, dicts, sets), is is only True if they are actually the same object."
      ],
      "metadata": {
        "id": "X3Upjwzqvxvg"
      }
    },
    {
      "cell_type": "markdown",
      "source": [
        "# PRACTICE"
      ],
      "metadata": {
        "id": "7Mo8KZAbwYV0"
      }
    },
    {
      "cell_type": "markdown",
      "source": [
        "Goal: Practice using == and is with integers, strings, and lists."
      ],
      "metadata": {
        "id": "EH4zYLGMwnRy"
      }
    },
    {
      "cell_type": "code",
      "source": [
        "# TODO: Create two variables with the same integer value and compare them using == and is.\n",
        "# TODO: Create two variables with the same string value and compare them using == and is.\n",
        "# TODO: Create two lists with the same elements and compare them using == and is.\n"
      ],
      "metadata": {
        "id": "TvRQu2fTv2la"
      },
      "execution_count": 5,
      "outputs": []
    },
    {
      "cell_type": "code",
      "source": [],
      "metadata": {
        "id": "-3N2grvRwrcD"
      },
      "execution_count": null,
      "outputs": []
    },
    {
      "cell_type": "markdown",
      "source": [
        "# Mutability Test\n",
        "\n",
        "Goal: Understand how mutable and immutable types behave differently when reassigned."
      ],
      "metadata": {
        "id": "xcrVDIQywscR"
      }
    },
    {
      "cell_type": "code",
      "source": [
        "# TODO: Create a string variable 'text1' and set it to \"Python\".\n",
        "# TODO: Assign 'text2' = 'text1'.\n",
        "# TODO: Change 'text1' to \"JavaScript\" and print both variables.\n",
        "\n",
        "# TODO: Create a list 'list1' with numbers 1, 2, 3.\n",
        "# TODO: Assign 'list2' = 'list1'.\n",
        "# TODO: Append 4 to list1 and print both lists.\n"
      ],
      "metadata": {
        "id": "nWaawX-OwweH"
      },
      "execution_count": 6,
      "outputs": []
    },
    {
      "cell_type": "code",
      "source": [],
      "metadata": {
        "id": "4O9XF5TxwyWH"
      },
      "execution_count": null,
      "outputs": []
    },
    {
      "cell_type": "markdown",
      "source": [
        "# Same Object Changes\n",
        "\n",
        "Goal: See what happens when two variables refer to the same mutable object."
      ],
      "metadata": {
        "id": "xWpBzbN9w2Ok"
      }
    },
    {
      "cell_type": "code",
      "source": [
        "# TODO: Create a list called 'cart' with [\"apple\", \"banana\"].\n",
        "# TODO: Assign 'my_cart' = 'cart'.\n",
        "# TODO: Add \"orange\" to 'cart'.\n",
        "# TODO: Print 'my_cart' to confirm it also changed.\n"
      ],
      "metadata": {
        "id": "yPRKj9k3w3z1"
      },
      "execution_count": 7,
      "outputs": []
    },
    {
      "cell_type": "code",
      "source": [],
      "metadata": {
        "id": "193g7Eojw5l-"
      },
      "execution_count": null,
      "outputs": []
    },
    {
      "cell_type": "markdown",
      "source": [
        "# Shallow Copy\n",
        "\n",
        "Goal: Understand how .copy() works with nested lists."
      ],
      "metadata": {
        "id": "zeitgq9Ow7bp"
      }
    },
    {
      "cell_type": "code",
      "source": [
        "# TODO: Create a nested list 'nested1' = [[1, 2], [3, 4]].\n",
        "# TODO: Make a shallow copy 'nested2' = nested1.copy().\n",
        "# TODO: Append 99 to the first inner list of nested1.\n",
        "# TODO: Print both nested1 and nested2. Notice what changed.\n"
      ],
      "metadata": {
        "id": "VCKxll3Qw-Og"
      },
      "execution_count": 8,
      "outputs": []
    },
    {
      "cell_type": "code",
      "source": [],
      "metadata": {
        "id": "rRFll6lUw_pu"
      },
      "execution_count": null,
      "outputs": []
    },
    {
      "cell_type": "markdown",
      "source": [
        "# Deep Copy\n",
        "\n",
        "Goal: Learn how to avoid unintended shared references with copy.deepcopy()."
      ],
      "metadata": {
        "id": "72WkA2ezxFzb"
      }
    },
    {
      "cell_type": "code",
      "source": [
        "import copy\n",
        "\n",
        "# TODO: Create a nested list 'nestedA' = [[1, 2], [3, 4]].\n",
        "# TODO: Make a deep copy 'nestedB' = copy.deepcopy(nestedA).\n",
        "# TODO: Append 99 to the first inner list of nestedA.\n",
        "# TODO: Print both nestedA and nestedB. Notice the difference.\n"
      ],
      "metadata": {
        "id": "fkVLyehLxJgc"
      },
      "execution_count": 9,
      "outputs": []
    },
    {
      "cell_type": "code",
      "source": [],
      "metadata": {
        "id": "bWxpPJ6HxSZs"
      },
      "execution_count": null,
      "outputs": []
    }
  ]
}